{
 "cells": [
  {
   "cell_type": "markdown",
   "id": "64be6430",
   "metadata": {},
   "source": [
    "## Depth First Search Algorithm "
   ]
  },
  {
   "cell_type": "markdown",
   "id": "ea16d1ff",
   "metadata": {},
   "source": [
    "The time complexity for DFS if O(|V| + |E|), where |V|, |E| are the no of vertices and Edges in the graph respectively"
   ]
  },
  {
   "cell_type": "code",
   "execution_count": 1,
   "id": "13a0b8d6",
   "metadata": {},
   "outputs": [],
   "source": [
    "graph = {'A':['B','C'], 'B':['D','E'], 'C':['B','F'], 'D':[], 'E': 'F', 'F':[]}"
   ]
  },
  {
   "cell_type": "code",
   "execution_count": 2,
   "id": "6f4ae96f",
   "metadata": {},
   "outputs": [],
   "source": [
    "color = {}\n",
    "parent = {}\n",
    "trav_time = {}\n",
    "dfs_output = []\n",
    "\n",
    "for node in graph:\n",
    "    color[node] = 'W'\n",
    "    parent[node] = None\n",
    "    trav_time[node] = [-1, -1]\n",
    "time = 0"
   ]
  },
  {
   "cell_type": "code",
   "execution_count": 3,
   "id": "40e1cf71",
   "metadata": {},
   "outputs": [],
   "source": [
    "def dfs_(u):\n",
    "    global time\n",
    "    color[u] = 'G'\n",
    "    trav_time[u][0] = time\n",
    "    dfs_output.append(u)\n",
    "    time += 1\n",
    "    for v in graph[u]:\n",
    "        if color[v] == 'W':\n",
    "            parent[v] = u\n",
    "            dfs_(v)\n",
    "    color[u] = 'B'\n",
    "    trav_time[u][1] = time\n",
    "    time += 1"
   ]
  },
  {
   "cell_type": "code",
   "execution_count": 4,
   "id": "2e06b79d",
   "metadata": {},
   "outputs": [],
   "source": [
    "dfs_('A')"
   ]
  },
  {
   "cell_type": "code",
   "execution_count": 5,
   "id": "b96c4c09",
   "metadata": {},
   "outputs": [
    {
     "name": "stdout",
     "output_type": "stream",
     "text": [
      "['A', 'B', 'D', 'E', 'F', 'C']\n"
     ]
    }
   ],
   "source": [
    "print(dfs_output)"
   ]
  },
  {
   "cell_type": "code",
   "execution_count": 6,
   "id": "ad772132",
   "metadata": {},
   "outputs": [
    {
     "name": "stdout",
     "output_type": "stream",
     "text": [
      "{'A': None, 'B': 'A', 'C': 'A', 'D': 'B', 'E': 'B', 'F': 'E'}\n",
      "{'A': [0, 11], 'B': [1, 8], 'C': [9, 10], 'D': [2, 3], 'E': [4, 7], 'F': [5, 6]}\n"
     ]
    }
   ],
   "source": [
    "print(parent)\n",
    "print(trav_time)"
   ]
  },
  {
   "cell_type": "code",
   "execution_count": null,
   "id": "2a9e0a46",
   "metadata": {},
   "outputs": [],
   "source": []
  }
 ],
 "metadata": {
  "kernelspec": {
   "display_name": "Python 3",
   "language": "python",
   "name": "python3"
  },
  "language_info": {
   "codemirror_mode": {
    "name": "ipython",
    "version": 3
   },
   "file_extension": ".py",
   "mimetype": "text/x-python",
   "name": "python",
   "nbconvert_exporter": "python",
   "pygments_lexer": "ipython3",
   "version": "3.8.8"
  }
 },
 "nbformat": 4,
 "nbformat_minor": 5
}
