{
 "cells": [
  {
   "cell_type": "code",
   "execution_count": 1,
   "id": "8b587a78",
   "metadata": {},
   "outputs": [],
   "source": [
    "import random"
   ]
  },
  {
   "cell_type": "code",
   "execution_count": 2,
   "id": "b46f7725",
   "metadata": {},
   "outputs": [
    {
     "name": "stdout",
     "output_type": "stream",
     "text": [
      "under_10: [0, 1, 2, 3, 4, 5, 6, 7, 8, 9]\n"
     ]
    }
   ],
   "source": [
    "#print value under 10\n",
    "under_10 = [x for x in range(10)]\n",
    "print(f'under_10: {under_10}')"
   ]
  },
  {
   "cell_type": "code",
   "execution_count": 3,
   "id": "b32e052f",
   "metadata": {},
   "outputs": [
    {
     "name": "stdout",
     "output_type": "stream",
     "text": [
      "squares: [0, 1, 4, 9, 16, 25, 36, 49, 64, 81]\n"
     ]
    }
   ],
   "source": [
    "#print squares\n",
    "squares = [x**2 for x in range(10)]\n",
    "print(f'squares: {squares}')"
   ]
  },
  {
   "cell_type": "code",
   "execution_count": 4,
   "id": "cf2c8038",
   "metadata": {},
   "outputs": [
    {
     "name": "stdout",
     "output_type": "stream",
     "text": [
      "odds: [1, 3, 5, 7, 9]\n"
     ]
    }
   ],
   "source": [
    "#print odds\n",
    "odds = [x  for x in range(10) if x%2 == 1]\n",
    "print(f'odds: {odds}')"
   ]
  },
  {
   "cell_type": "code",
   "execution_count": 5,
   "id": "9b03992b",
   "metadata": {},
   "outputs": [
    {
     "name": "stdout",
     "output_type": "stream",
     "text": [
      "ten_x: [0, 10, 20, 30, 40, 50, 60, 70, 80, 90]\n"
     ]
    }
   ],
   "source": [
    "#print multiple of 10's\n",
    "ten_x = [x *10 for x in range(10)]\n",
    "print(f'ten_x: {ten_x}')"
   ]
  },
  {
   "cell_type": "code",
   "execution_count": 6,
   "id": "e57109de",
   "metadata": {},
   "outputs": [
    {
     "name": "stdout",
     "output_type": "stream",
     "text": [
      "nums : ['2', '0', '7', '3']\n"
     ]
    }
   ],
   "source": [
    "#print integers in a string\n",
    "s = 'I love 2 go t0 the store 7 times a w3eak'\n",
    "nums = [x for x in s if x.isnumeric()]\n",
    "print(f'nums : {nums}')"
   ]
  },
  {
   "cell_type": "code",
   "execution_count": 7,
   "id": "dd2d1ac4",
   "metadata": {},
   "outputs": [
    {
     "name": "stdout",
     "output_type": "stream",
     "text": [
      "index = 1\n"
     ]
    }
   ],
   "source": [
    "#print index of a particular name\n",
    "names = ['Comeo', 'Alpha', 'Beta']\n",
    "idx = [k for k,v in enumerate(names) if v == 'Alpha']\n",
    "print(f'index = {idx[0]}')"
   ]
  },
  {
   "cell_type": "code",
   "execution_count": 8,
   "id": "74fcbbda",
   "metadata": {},
   "outputs": [
    {
     "name": "stdout",
     "output_type": "stream",
     "text": [
      "['A', 'B', 'C', 'F', 'E', 'D'] ['A', 'B', 'F', 'E', 'D']\n"
     ]
    }
   ],
   "source": [
    "# Delete a particular letter in a string\n",
    "letters = [x for x in 'ABCDEF']\n",
    "random.shuffle(letters)\n",
    "letrs = [a for a in letters if a != 'C']\n",
    "print(letters, letrs)"
   ]
  },
  {
   "cell_type": "code",
   "execution_count": 9,
   "id": "9a6ca08e",
   "metadata": {},
   "outputs": [
    {
     "name": "stdout",
     "output_type": "stream",
     "text": [
      "newlist = [50, 30, 10, 18, 6, 70]\n"
     ]
    }
   ],
   "source": [
    "#if-else conditions\n",
    "nums = [5,3,10,18,6,7]\n",
    "new_list = [x if x%2 == 0 else 10*x for x in nums]\n",
    "print(f'newlist = {new_list}')"
   ]
  },
  {
   "cell_type": "code",
   "execution_count": 10,
   "id": "08234d10",
   "metadata": {},
   "outputs": [
    {
     "name": "stdout",
     "output_type": "stream",
     "text": [
      "newlist = [1, 2, 3, 4]\n"
     ]
    }
   ],
   "source": [
    "#nested loop\n",
    "\n",
    "a = [[1,2],[3,4]]\n",
    "new_list = [x for b in a for x in b]\n",
    "print(f'newlist = {new_list}')"
   ]
  },
  {
   "cell_type": "code",
   "execution_count": null,
   "id": "40070000",
   "metadata": {},
   "outputs": [],
   "source": []
  }
 ],
 "metadata": {
  "kernelspec": {
   "display_name": "Python 3",
   "language": "python",
   "name": "python3"
  },
  "language_info": {
   "codemirror_mode": {
    "name": "ipython",
    "version": 3
   },
   "file_extension": ".py",
   "mimetype": "text/x-python",
   "name": "python",
   "nbconvert_exporter": "python",
   "pygments_lexer": "ipython3",
   "version": "3.8.8"
  }
 },
 "nbformat": 4,
 "nbformat_minor": 5
}
