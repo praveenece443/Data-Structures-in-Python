{
 "cells": [
  {
   "cell_type": "markdown",
   "id": "0a9bd967",
   "metadata": {},
   "source": [
    "## Binary Search Tree\n",
    "\n",
    "<strong>Constructor</strong> Sets three attributes: data, left subtree and right subtree<br>\n",
    "<strong>Insert</strong> Insert a new subtree in the proper position<br>\n",
    "<strong>Find</strong> Find a value, if value not found return False<br>\n",
    "<strong>Get_Size</strong> Returns the number of nodes except the Nones<br>\n",
    "<strong>PreOrder</strong> Prints a preorder traversal of a tree<br>\n",
    "<strong>InOrder</strong> Prints a Inorder traversal of a tree<br>"
   ]
  },
  {
   "cell_type": "code",
   "execution_count": 1,
   "id": "f6c5614a",
   "metadata": {},
   "outputs": [],
   "source": [
    "class Tree:\n",
    "    def __init__(self, data, left=None, right=None):\n",
    "        self.data = data\n",
    "        self.left = left\n",
    "        self.right = right\n",
    "    def insert(self, data):\n",
    "        if self.data == data: #duplicate value\n",
    "            return False\n",
    "        elif self.data < data:\n",
    "            if self.right is not None:\n",
    "                return self.right.insert(data)\n",
    "            else:\n",
    "                self.right = Tree(data)\n",
    "                return True\n",
    "        else:\n",
    "            if self.left is not None:\n",
    "                return self.left.insert(data)\n",
    "            else:\n",
    "                self.left = Tree(data)\n",
    "                return True\n",
    "    def find(self,data):\n",
    "        if self.data == data:\n",
    "            return data\n",
    "        elif self.data > data:\n",
    "            if self.left is None:\n",
    "                return False\n",
    "            else:\n",
    "                self.left.find(data)\n",
    "        else:\n",
    "            if self.right is None:\n",
    "                return False\n",
    "            else:\n",
    "                self.right.find(data)\n",
    "    def get_size(self):\n",
    "        if self.left is not None and self.right is not None:\n",
    "            return 1 + self.left.get_size() + self.right.get_size()\n",
    "        elif self.left:\n",
    "            return 1 + self.left.get_size()\n",
    "        elif self.right:\n",
    "            return 1 + self.right.get_size()\n",
    "        else:\n",
    "            return 1    \n",
    "    def preorder(self):\n",
    "        if self is not None:\n",
    "            print(self.data, end = ' ')\n",
    "            if self.left is not None:\n",
    "                self.left.preorder()\n",
    "            if self.right is not None:\n",
    "                self.right.preorder()\n",
    "    def inorder(self):\n",
    "        if self is not None:            \n",
    "            if self.left is not None:\n",
    "                self.left.preorder()\n",
    "            print(self.data, end = ' ')\n",
    "            if self.right is not None:\n",
    "                self.right.preorder()"
   ]
  },
  {
   "cell_type": "markdown",
   "id": "0d34191f",
   "metadata": {},
   "source": [
    "## Test Code"
   ]
  },
  {
   "cell_type": "code",
   "execution_count": 2,
   "id": "60f4fdbd",
   "metadata": {},
   "outputs": [
    {
     "name": "stdout",
     "output_type": "stream",
     "text": [
      "None None None None None None None 7 None None None None None None None None \n",
      "7 1 3 5 9 11 13 15 17 19 \n",
      "1 3 5 7 9 11 13 15 17 19 "
     ]
    }
   ],
   "source": [
    "tree = Tree(7)\n",
    "tree.insert(9)\n",
    "for i in [1,3,5,11,13,15,17,19]:\n",
    "    tree.insert(i)\n",
    "for i in range(16):\n",
    "    print(tree.find(i), end = ' ')\n",
    "tree.get_size()\n",
    "print()\n",
    "tree.preorder()\n",
    "print()\n",
    "tree.inorder()"
   ]
  },
  {
   "cell_type": "code",
   "execution_count": null,
   "id": "11076962",
   "metadata": {},
   "outputs": [],
   "source": []
  }
 ],
 "metadata": {
  "kernelspec": {
   "display_name": "Python 3",
   "language": "python",
   "name": "python3"
  },
  "language_info": {
   "codemirror_mode": {
    "name": "ipython",
    "version": 3
   },
   "file_extension": ".py",
   "mimetype": "text/x-python",
   "name": "python",
   "nbconvert_exporter": "python",
   "pygments_lexer": "ipython3",
   "version": "3.8.8"
  }
 },
 "nbformat": 4,
 "nbformat_minor": 5
}
