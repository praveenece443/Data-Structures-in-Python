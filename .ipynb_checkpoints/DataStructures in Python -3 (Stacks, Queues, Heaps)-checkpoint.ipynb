{
 "cells": [
  {
   "cell_type": "markdown",
   "id": "9fc68908",
   "metadata": {},
   "source": [
    "#### Stack (LIFO)\n",
    "A Stack operates with a first in and last out"
   ]
  },
  {
   "cell_type": "code",
   "execution_count": null,
   "id": "e3da425c",
   "metadata": {},
   "outputs": [],
   "source": [
    "stack = list()\n",
    "stack.append(4)\n",
    "stack.append(3)\n",
    "stack.append(5)\n",
    "stack.append(7)\n",
    "print(stack)"
   ]
  },
  {
   "cell_type": "code",
   "execution_count": null,
   "id": "7e1484e8",
   "metadata": {},
   "outputs": [],
   "source": [
    "stack.pop() #pops last element from the stack"
   ]
  },
  {
   "cell_type": "code",
   "execution_count": null,
   "id": "85cf8a5c",
   "metadata": {},
   "outputs": [],
   "source": [
    "stack[len(stack)-1]"
   ]
  },
  {
   "cell_type": "markdown",
   "id": "355117cf",
   "metadata": {},
   "source": [
    "### Stack using Wrapper"
   ]
  },
  {
   "cell_type": "code",
   "execution_count": null,
   "id": "48f44327",
   "metadata": {},
   "outputs": [],
   "source": [
    "class Stack():\n",
    "    def __init__(self):\n",
    "        self.stack = list()\n",
    "    def push(self,item):\n",
    "        self.stack.append(item)\n",
    "    def pop(self):\n",
    "        if len(self.stack)> 0:\n",
    "            return self.stack.pop()\n",
    "        else:\n",
    "            return self.stack\n",
    "    def peek(self):\n",
    "        if len(self.stack)> 0:\n",
    "            return self.stack[len(self.stack)-1]\n",
    "        else:\n",
    "            None\n",
    "    def __str__(self):\n",
    "        return str(self.stack)"
   ]
  },
  {
   "cell_type": "code",
   "execution_count": null,
   "id": "89b9073b",
   "metadata": {},
   "outputs": [],
   "source": [
    "mystack = Stack()\n",
    "mystack.push(1)\n",
    "mystack.push(3)\n",
    "print(mystack)\n",
    "print(mystack.peek())\n",
    "print(mystack.pop())\n",
    "print(mystack.pop())\n",
    "print(mystack.pop())"
   ]
  },
  {
   "cell_type": "markdown",
   "id": "2a7bc2c1",
   "metadata": {},
   "source": [
    "## Queue (FIFO)\n",
    "Queue is First in and First Out. It has Enqueue and Dequque"
   ]
  },
  {
   "cell_type": "code",
   "execution_count": null,
   "id": "8fc30008",
   "metadata": {},
   "outputs": [],
   "source": [
    "from collections import deque\n",
    "\n",
    "myqueue = deque()\n",
    "myqueue.append(4)\n",
    "myqueue.append(3)\n",
    "myqueue.append(5)\n",
    "myqueue.append(7)\n",
    "print(myqueue)\n",
    "print(myqueue.popleft())"
   ]
  },
  {
   "cell_type": "markdown",
   "id": "f434f0fe",
   "metadata": {},
   "source": [
    "## Queue using Wrapppers"
   ]
  },
  {
   "cell_type": "code",
   "execution_count": null,
   "id": "b760212e",
   "metadata": {},
   "outputs": [],
   "source": [
    "class Queue():\n",
    "    def __init__(self):\n",
    "        self.queue = deque()\n",
    "    def push(self,item):\n",
    "        self.queue.append(item)\n",
    "    def pop(self):\n",
    "        if len(self.queue)> 0:\n",
    "            return self.queue.popleft()\n",
    "        else:\n",
    "            return None\n",
    "    def peek(self):\n",
    "        if len(self.queue)> 0:\n",
    "            return self.queue[len(self.queue)-1]\n",
    "        else:\n",
    "            None\n",
    "    def __str__(self):\n",
    "        return self.queue"
   ]
  },
  {
   "cell_type": "code",
   "execution_count": null,
   "id": "d62b9e90",
   "metadata": {},
   "outputs": [],
   "source": [
    "myqueue = Queue()\n",
    "myqueue.push(4)\n",
    "myqueue.push(3)\n",
    "print(myqueue)\n",
    "print(myqueue.peek())\n",
    "print(myqueue.pop())\n",
    "print(myqueue.pop())\n",
    "print(myqueue.pop())"
   ]
  },
  {
   "cell_type": "markdown",
   "id": "98f47f8e",
   "metadata": {},
   "source": [
    "## MaxHeap (Complete Binary Tree)\n",
    "\n",
    "<h5>Operations:</h5>\n",
    "<ol>\n",
    "    <li>Push (insert)</li>\n",
    "    <li>Peek (get Max)</li>\n",
    "    <li>POP (remove Max)</li>\n",
    "</ol>"
   ]
  },
  {
   "attachments": {
    "maxheap.png": {
     "image/png": "[encoded data removed]"
    }
   },
   "cell_type": "markdown",
   "id": "1aa2638e",
   "metadata": {},
   "source": [
    "![maxheap.png](attachment:maxheap.png)"
   ]
  },
  {
   "cell_type": "markdown",
   "id": "5c338601",
   "metadata": {},
   "source": [
    "<h3>MaxHeap Operations</h3>\n",
    "<ol>\n",
    "    <li>Heap should always be in order that is parent node should be greater than child node</li>\n",
    "    <li>Push (add a value at the end of the heap and verify the heap in order by floating up)</li>\n",
    "    <li>Peek (is to get the max value from the heap that is the first value)</li>\n",
    "    <li>Pop (is to pop the max value from the heap that is the first value by sorting the first node with the last node and removing the last node, and also bubble down in order to keep the heap in order)</li>\n",
    "</ol>"
   ]
  },
  {
   "cell_type": "code",
   "execution_count": 3,
   "id": "2cf01d30",
   "metadata": {},
   "outputs": [],
   "source": [
    "class MaxHeap():\n",
    "    def __init__(self,items=[]):\n",
    "        super().__init__()\n",
    "        self.heap = [0]\n",
    "        for item in items:\n",
    "            self.heap.append(item)\n",
    "            self.__floatUp(len(self.heap)-1)\n",
    "    def push(self, data):\n",
    "        self.heap.append(data)\n",
    "        self.__floatUp(len(self.heap)-1)\n",
    "    def peek(self):\n",
    "        if self.heap[1]:\n",
    "            return self.heap[1]\n",
    "        else :\n",
    "            return None\n",
    "    def pop(self):\n",
    "        if len(self.heap) > 2:\n",
    "            self.__swap(1,len(self.heap)-1)\n",
    "            max = self.heap.pop()\n",
    "            self.__bubbleDown(1)\n",
    "        elif len(self.heap) == 2:\n",
    "            max = self.heap.pop()\n",
    "        else:\n",
    "            max = False\n",
    "        return max\n",
    "    def __swap(self, i, j):\n",
    "        self.heap[i], self.heap[j] = self.heap[j], self.heap[i]\n",
    "    def __floatUp(self, index):\n",
    "        parent = index // 2\n",
    "        if index <=1:\n",
    "            return\n",
    "        elif self.heap[index] > self.heap[parent]:\n",
    "            self.__swap(index, parent)\n",
    "            self.__floatUp(parent)\n",
    "    def __bubbleDown(self, index): #here index value is 1\n",
    "        left = index * 2 #2s\n",
    "        right = index *2 + 1 #2s+1\n",
    "        largest = index\n",
    "        if len(self.heap) > left and self.heap[largest] < self.heap[left]:\n",
    "            largest = left\n",
    "        if len(self.heap) > right and self.heap[largest] < self.heap[right]:\n",
    "            largest = right \n",
    "        if largest != index:\n",
    "            self.__swap(index,largest)\n",
    "            self.__bubbleDown(largest)\n",
    "    def __str__(self):\n",
    "        return str(self.heap)"
   ]
  },
  {
   "cell_type": "code",
   "execution_count": 4,
   "id": "70016af8",
   "metadata": {},
   "outputs": [
    {
     "name": "stdout",
     "output_type": "stream",
     "text": [
      "[0, 5, 3, 4, 1, 2]\n",
      "5\n",
      "4\n"
     ]
    }
   ],
   "source": [
    "m = MaxHeap([1,4,5,2,3])\n",
    "#m.push(10)\n",
    "print(m)\n",
    "print(m.pop())\n",
    "print(m.peek())"
   ]
  },
  {
   "cell_type": "code",
   "execution_count": null,
   "id": "6981c448",
   "metadata": {},
   "outputs": [],
   "source": [
    "x= []\n",
    "x.append(1)\n",
    "x.append(4)"
   ]
  },
  {
   "cell_type": "code",
   "execution_count": null,
   "id": "310b6702",
   "metadata": {},
   "outputs": [],
   "source": [
    "x[0],x[1] = x[1],x[0]"
   ]
  },
  {
   "cell_type": "code",
   "execution_count": null,
   "id": "18d1d54d",
   "metadata": {},
   "outputs": [],
   "source": [
    "x"
   ]
  },
  {
   "cell_type": "code",
   "execution_count": null,
   "id": "d78948c4",
   "metadata": {},
   "outputs": [],
   "source": []
  }
 ],
 "metadata": {
  "kernelspec": {
   "display_name": "Python 3",
   "language": "python",
   "name": "python3"
  },
  "language_info": {
   "codemirror_mode": {
    "name": "ipython",
    "version": 3
   },
   "file_extension": ".py",
   "mimetype": "text/x-python",
   "name": "python",
   "nbconvert_exporter": "python",
   "pygments_lexer": "ipython3",
   "version": "3.8.8"
  }
 },
 "nbformat": 4,
 "nbformat_minor": 5
}
