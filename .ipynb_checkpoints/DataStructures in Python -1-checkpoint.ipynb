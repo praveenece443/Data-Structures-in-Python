{
 "cells": [
  {
   "cell_type": "markdown",
   "id": "1b1cda58",
   "metadata": {},
   "source": [
    "#### Sequences: String, List, Tuple"
   ]
  },
  {
   "cell_type": "markdown",
   "id": "c0ea29b3",
   "metadata": {},
   "source": [
    "<h6>Indexing</h6>"
   ]
  },
  {
   "cell_type": "code",
   "execution_count": 1,
   "id": "6e68c85f",
   "metadata": {},
   "outputs": [
    {
     "name": "stdout",
     "output_type": "stream",
     "text": [
      "g\n",
      "pig\n",
      "kevin\n"
     ]
    }
   ],
   "source": [
    "x = 'frog'\n",
    "print(x[3])\n",
    "#list\n",
    "x = ['frog','pig','crow']\n",
    "print(x[1])\n",
    "#tuple\n",
    "x = ('kevin','mark','Jenny','Craig')\n",
    "print(x[0])"
   ]
  },
  {
   "cell_type": "markdown",
   "id": "6b8a610e",
   "metadata": {},
   "source": [
    "<h6>Slicing</h6>"
   ]
  },
  {
   "cell_type": "code",
   "execution_count": 2,
   "id": "e7229b8c",
   "metadata": {},
   "outputs": [
    {
     "name": "stdout",
     "output_type": "stream",
     "text": [
      "omp\n",
      "opt\n",
      "puter\n",
      "compu\n",
      "r\n",
      "ter\n",
      "comput\n"
     ]
    }
   ],
   "source": [
    "x = 'computer'\n",
    "print(x[1:4])\n",
    "print(x[1:6:2])\n",
    "print(x[3:])\n",
    "print(x[:5])\n",
    "print(x[-1])\n",
    "print(x[-3:])\n",
    "print(x[:-2])"
   ]
  },
  {
   "cell_type": "markdown",
   "id": "c1f948ec",
   "metadata": {},
   "source": [
    "<h6>adding/concatinating</h6>"
   ]
  },
  {
   "cell_type": "code",
   "execution_count": 3,
   "id": "d2e23270",
   "metadata": {},
   "outputs": [
    {
     "name": "stdout",
     "output_type": "stream",
     "text": [
      "horseshoe\n",
      "['pig', 'cow', 'horse']\n",
      "('Kevin', 'Nikolas', 'Jenny', 'Craig')\n"
     ]
    }
   ],
   "source": [
    "x = 'horse' + 'shoe'\n",
    "print(x)\n",
    "y = ['pig','cow'] + ['horse']\n",
    "print(y)\n",
    "z = ('Kevin','Nikolas','Jenny') + ('Craig',)\n",
    "print(z)"
   ]
  },
  {
   "cell_type": "markdown",
   "id": "b9e15576",
   "metadata": {},
   "source": [
    "<h6>Multiplying</h6>"
   ]
  },
  {
   "cell_type": "code",
   "execution_count": 4,
   "id": "99c92b7a",
   "metadata": {},
   "outputs": [
    {
     "name": "stdout",
     "output_type": "stream",
     "text": [
      "bugbugbug\n",
      "[8, 5, 8, 5, 8, 5]\n",
      "(2, 4, 2, 4, 2, 4)\n"
     ]
    }
   ],
   "source": [
    "#string\n",
    "x = 'bug' * 3\n",
    "print(x)\n",
    "\n",
    "#list\n",
    "y = [8,5] * 3\n",
    "print(y)\n",
    "\n",
    "#tuple\n",
    "z = (2,4) * 3\n",
    "print(z)"
   ]
  },
  {
   "cell_type": "markdown",
   "id": "7032bdda",
   "metadata": {},
   "source": [
    "<h6>checking membership</h6>"
   ]
  },
  {
   "cell_type": "code",
   "execution_count": 5,
   "id": "6d34a22a",
   "metadata": {},
   "outputs": [
    {
     "name": "stdout",
     "output_type": "stream",
     "text": [
      "True\n",
      "True\n",
      "True\n"
     ]
    }
   ],
   "source": [
    "#string\n",
    "x= 'bug'\n",
    "print('u' in x)\n",
    "\n",
    "#list\n",
    "y = ['pig','cow','human']\n",
    "print('cow' in y)\n",
    "\n",
    "#Tuple\n",
    "z = ('Kevin', 'Jack', 'Craig')\n",
    "print('Jack' in z)"
   ]
  },
  {
   "cell_type": "markdown",
   "id": "b40904b4",
   "metadata": {},
   "source": [
    "<h6>Indexing</h6>"
   ]
  },
  {
   "cell_type": "code",
   "execution_count": 6,
   "id": "bd7b6d3e",
   "metadata": {},
   "outputs": [
    {
     "name": "stdout",
     "output_type": "stream",
     "text": [
      "1\n",
      "2\n",
      "3\n",
      "0 1\n",
      "1 2\n",
      "2 3\n"
     ]
    }
   ],
   "source": [
    "z = [1,2,3]\n",
    "for item in z:\n",
    "    print(item)\n",
    "    \n",
    "z = [1,2,3]\n",
    "for index, item in enumerate(z):\n",
    "    print(index, item)"
   ]
  },
  {
   "cell_type": "markdown",
   "id": "90088875",
   "metadata": {},
   "source": [
    "<h6>number of items</h6>"
   ]
  },
  {
   "cell_type": "code",
   "execution_count": 7,
   "id": "6a8788a9",
   "metadata": {},
   "outputs": [
    {
     "name": "stdout",
     "output_type": "stream",
     "text": [
      "3\n",
      "3\n",
      "3\n"
     ]
    }
   ],
   "source": [
    "#string\n",
    "x = 'bug'\n",
    "print(len(x))\n",
    "\n",
    "#list\n",
    "y = ['pig','cow','horse']\n",
    "print(len(y))\n",
    "\n",
    "#tuple\n",
    "z = ('Kevin', 'Jack', 'Craig')\n",
    "print(len(z))"
   ]
  },
  {
   "cell_type": "markdown",
   "id": "e55156fe",
   "metadata": {},
   "source": [
    "<h6>minimum</h6>"
   ]
  },
  {
   "cell_type": "code",
   "execution_count": 8,
   "id": "5259e662",
   "metadata": {},
   "outputs": [
    {
     "name": "stdout",
     "output_type": "stream",
     "text": [
      "b\n",
      "cow\n",
      "Craig\n"
     ]
    }
   ],
   "source": [
    "#string\n",
    "x = 'bug'\n",
    "print(min(x))\n",
    "\n",
    "#list\n",
    "y = ['pig','cow','horse']\n",
    "print(min(y))\n",
    "\n",
    "#tuple\n",
    "z = ('Kevin', 'Jack', 'Craig')\n",
    "print(min(z))"
   ]
  },
  {
   "cell_type": "markdown",
   "id": "5b5b6362",
   "metadata": {},
   "source": [
    "<h6>Maximum</h6>"
   ]
  },
  {
   "cell_type": "code",
   "execution_count": 9,
   "id": "d127fde7",
   "metadata": {},
   "outputs": [
    {
     "name": "stdout",
     "output_type": "stream",
     "text": [
      "u\n",
      "pig\n",
      "Kevin\n"
     ]
    }
   ],
   "source": [
    "#string\n",
    "x = 'bug'\n",
    "print(max(x))\n",
    "\n",
    "#list\n",
    "y = ['pig','cow','horse']\n",
    "print(max(y))\n",
    "\n",
    "#tuple\n",
    "z = ('Kevin', 'Jack', 'Craig')\n",
    "print(max(z))"
   ]
  },
  {
   "cell_type": "markdown",
   "id": "e400a6c7",
   "metadata": {},
   "source": [
    "<h6>sum</h6>"
   ]
  },
  {
   "cell_type": "code",
   "execution_count": 10,
   "id": "fa1fe56a",
   "metadata": {},
   "outputs": [
    {
     "name": "stdout",
     "output_type": "stream",
     "text": [
      "5\n",
      "18\n"
     ]
    }
   ],
   "source": [
    "#list\n",
    "y = [5,6,7]\n",
    "print(sum(y[:-2]))\n",
    "\n",
    "#tuple\n",
    "z = (5,6,7)\n",
    "print(sum(z))"
   ]
  },
  {
   "cell_type": "markdown",
   "id": "7c61446e",
   "metadata": {},
   "source": [
    "<h6>sorting</h6>"
   ]
  },
  {
   "cell_type": "code",
   "execution_count": 11,
   "id": "8642bffc",
   "metadata": {},
   "outputs": [
    {
     "name": "stdout",
     "output_type": "stream",
     "text": [
      "['b', 'g', 'u']\n",
      "['cow', 'horse', 'pig']\n",
      "['Craig', 'Jack', 'Kevin']\n"
     ]
    }
   ],
   "source": [
    "#string\n",
    "x = 'bug'\n",
    "print(sorted(x))\n",
    "\n",
    "#list\n",
    "y = ['pig','cow','horse']\n",
    "print(sorted(y))\n",
    "\n",
    "#tuple\n",
    "z = ('Kevin', 'Jack', 'Craig')\n",
    "print(sorted(z))"
   ]
  },
  {
   "cell_type": "code",
   "execution_count": 12,
   "id": "dccfc127",
   "metadata": {},
   "outputs": [
    {
     "name": "stdout",
     "output_type": "stream",
     "text": [
      "['Jack', 'Kevin', 'Craig']\n"
     ]
    }
   ],
   "source": [
    "z = ('Kevin', 'Jack', 'Craig')\n",
    "print(sorted(z,key=lambda x: x[1])) #sort using 2nd letter"
   ]
  },
  {
   "cell_type": "markdown",
   "id": "6c75fdfe",
   "metadata": {},
   "source": [
    "<h6>count</h6>"
   ]
  },
  {
   "cell_type": "code",
   "execution_count": 13,
   "id": "85214f3f",
   "metadata": {},
   "outputs": [
    {
     "name": "stdout",
     "output_type": "stream",
     "text": [
      "2\n",
      "2\n",
      "1\n"
     ]
    }
   ],
   "source": [
    "#string\n",
    "x = 'hippo'\n",
    "print(x.count('p'))\n",
    "\n",
    "#list\n",
    "y = ['pig','cow','horse', 'cow']\n",
    "print(y.count('cow'))\n",
    "\n",
    "#tuple\n",
    "z = ('Kevin', 'Jack', 'Craig')\n",
    "print(z.count('Kevin'))"
   ]
  },
  {
   "cell_type": "markdown",
   "id": "128cbaa3",
   "metadata": {},
   "source": [
    "<h6>index</h6>"
   ]
  },
  {
   "cell_type": "code",
   "execution_count": 14,
   "id": "3776e533",
   "metadata": {},
   "outputs": [
    {
     "name": "stdout",
     "output_type": "stream",
     "text": [
      "2\n",
      "1\n",
      "0\n"
     ]
    }
   ],
   "source": [
    "#string\n",
    "x = 'hippo'\n",
    "print(x.index('p'))\n",
    "\n",
    "#list\n",
    "y = ['pig','cow','horse', 'cow']\n",
    "print(y.index('cow'))\n",
    "\n",
    "#tuple\n",
    "z = ('Kevin', 'Jack', 'Craig')\n",
    "print(z.index('Kevin'))"
   ]
  },
  {
   "cell_type": "markdown",
   "id": "e76f8a26",
   "metadata": {},
   "source": [
    "<h6>unpacking</h6>"
   ]
  },
  {
   "cell_type": "code",
   "execution_count": 15,
   "id": "5810c04a",
   "metadata": {},
   "outputs": [
    {
     "name": "stdout",
     "output_type": "stream",
     "text": [
      "Kevin Jack Craig\n"
     ]
    }
   ],
   "source": [
    "a,b,c = ('Kevin', 'Jack', 'Craig')\n",
    "print(a,b,c)"
   ]
  },
  {
   "cell_type": "markdown",
   "id": "9e149508",
   "metadata": {},
   "source": [
    "##### Lists"
   ]
  },
  {
   "cell_type": "markdown",
   "id": "547f3839",
   "metadata": {},
   "source": [
    "<h6>constructors</h6>"
   ]
  },
  {
   "cell_type": "code",
   "execution_count": 16,
   "id": "41b0b6a3",
   "metadata": {},
   "outputs": [
    {
     "name": "stdout",
     "output_type": "stream",
     "text": [
      "[] ['a', 165.0, 'dog', 2] [10, 20, 30]\n"
     ]
    }
   ],
   "source": [
    "x = list()\n",
    "y = ['a',165.0,'dog',2]\n",
    "z = list((10,20,30))\n",
    "print(x,y,z)"
   ]
  },
  {
   "cell_type": "markdown",
   "id": "c02ea94d",
   "metadata": {},
   "source": [
    "###### List comprehension"
   ]
  },
  {
   "cell_type": "code",
   "execution_count": 17,
   "id": "90fe7c00",
   "metadata": {},
   "outputs": [
    {
     "name": "stdout",
     "output_type": "stream",
     "text": [
      "[0, 1, 2, 3, 4, 5, 6, 7]\n",
      "[25, 36, 49, 64, 81]\n"
     ]
    }
   ],
   "source": [
    "a = [m for m in range(8)]\n",
    "print(a)\n",
    "b = [i**2 for i in range(10) if i>4]\n",
    "print(b)"
   ]
  },
  {
   "cell_type": "code",
   "execution_count": 18,
   "id": "5040e5d9",
   "metadata": {},
   "outputs": [
    {
     "name": "stdout",
     "output_type": "stream",
     "text": [
      "[5, 7, 8]\n"
     ]
    }
   ],
   "source": [
    "#delete\n",
    "x = [5,6,7,8]\n",
    "del(x[1])\n",
    "print(x)\n",
    "del(x)"
   ]
  },
  {
   "cell_type": "code",
   "execution_count": 19,
   "id": "6835edb3",
   "metadata": {},
   "outputs": [
    {
     "name": "stdout",
     "output_type": "stream",
     "text": [
      "[5, 6, 7, 8, 9]\n"
     ]
    }
   ],
   "source": [
    "#append\n",
    "x = [5,6,7,8]\n",
    "x.append(9)\n",
    "print(x)"
   ]
  },
  {
   "cell_type": "code",
   "execution_count": 20,
   "id": "53bdfd27",
   "metadata": {},
   "outputs": [
    {
     "name": "stdout",
     "output_type": "stream",
     "text": [
      "[5, 6, 7, 8, 9, 10]\n"
     ]
    }
   ],
   "source": [
    "#extend\n",
    "x = [5,6,7,8]\n",
    "y = [9,10]\n",
    "x.extend(y)\n",
    "print(x)"
   ]
  },
  {
   "cell_type": "code",
   "execution_count": 21,
   "id": "526a4de7",
   "metadata": {},
   "outputs": [
    {
     "name": "stdout",
     "output_type": "stream",
     "text": [
      "[5, 6, 7, 8, 9]\n",
      "[5, 6, ['a', 'm'], 7, 8, 9]\n"
     ]
    }
   ],
   "source": [
    "#insert\n",
    "x = [5,6,7,8]\n",
    "x.insert(4,9)\n",
    "print(x)\n",
    "x.insert(2,['a', 'm'])\n",
    "print(x)"
   ]
  },
  {
   "cell_type": "code",
   "execution_count": 22,
   "id": "aa6f2985",
   "metadata": {},
   "outputs": [
    {
     "name": "stdout",
     "output_type": "stream",
     "text": [
      "[5, 6, 7] 8\n"
     ]
    }
   ],
   "source": [
    "#pop\n",
    "x = [5,6,7,8]\n",
    "print(x, x.pop()) #pop lasts number in the list"
   ]
  },
  {
   "cell_type": "code",
   "execution_count": 23,
   "id": "bde4e1d8",
   "metadata": {},
   "outputs": [
    {
     "name": "stdout",
     "output_type": "stream",
     "text": [
      "[5, 7, 8, 6]\n"
     ]
    }
   ],
   "source": [
    "#remove\n",
    "x = [5,6,7,8,6]\n",
    "x.remove(6)\n",
    "print(x)"
   ]
  },
  {
   "cell_type": "code",
   "execution_count": 24,
   "id": "f26d7e15",
   "metadata": {},
   "outputs": [
    {
     "name": "stdout",
     "output_type": "stream",
     "text": [
      "[6, 8, 7, 6, 5]\n"
     ]
    }
   ],
   "source": [
    "#reverse\n",
    "x = [5,6,7,8,6]\n",
    "x.reverse()\n",
    "print(x)"
   ]
  },
  {
   "cell_type": "code",
   "execution_count": 25,
   "id": "8502f66e",
   "metadata": {},
   "outputs": [
    {
     "name": "stdout",
     "output_type": "stream",
     "text": [
      "[5, 6, 7, 8, 6, 5]\n"
     ]
    }
   ],
   "source": [
    "#append\n",
    "x = [5,6,7,8,6]\n",
    "x.append(5)\n",
    "print(x)"
   ]
  },
  {
   "cell_type": "markdown",
   "id": "ab0ab8e7",
   "metadata": {},
   "source": [
    "#### sort - in place sort\n",
    "#### sorted - creates a new list with sorted order without changing the original list"
   ]
  },
  {
   "cell_type": "code",
   "execution_count": 26,
   "id": "fb404c5c",
   "metadata": {},
   "outputs": [
    {
     "name": "stdout",
     "output_type": "stream",
     "text": [
      "[3, 5, 6, 8]\n"
     ]
    }
   ],
   "source": [
    "#sort\n",
    "x = [5,3,8,6]\n",
    "x.sort()\n",
    "print(x)"
   ]
  },
  {
   "cell_type": "code",
   "execution_count": 27,
   "id": "2760c5b3",
   "metadata": {},
   "outputs": [
    {
     "name": "stdout",
     "output_type": "stream",
     "text": [
      "[8, 6, 5, 3]\n"
     ]
    }
   ],
   "source": [
    "#reverse sort\n",
    "x = [5,3,8,6]\n",
    "x.sort(reverse=True)\n",
    "print(x)"
   ]
  },
  {
   "cell_type": "markdown",
   "id": "014b882a",
   "metadata": {},
   "source": [
    "### Tuples \n",
    "\n",
    "###### (tuples are immutable but member objects may be mutable)"
   ]
  },
  {
   "cell_type": "code",
   "execution_count": 28,
   "id": "5f883186",
   "metadata": {},
   "outputs": [
    {
     "name": "stdout",
     "output_type": "stream",
     "text": [
      "() (1, 2, 3) (1, 2, 3) (2,) (1, 2, 3)\n"
     ]
    }
   ],
   "source": [
    "#constructors\n",
    "x = ()\n",
    "y = (1,2,3)\n",
    "z = 1,2,3\n",
    "m = 2,\n",
    "n = tuple([1,2,3])\n",
    "print(x,y,z,m,n)"
   ]
  },
  {
   "cell_type": "code",
   "execution_count": 29,
   "id": "5d1136bb",
   "metadata": {},
   "outputs": [
    {
     "name": "stdout",
     "output_type": "stream",
     "text": [
      "([1], 3)\n",
      "([1], 3, 4)\n"
     ]
    }
   ],
   "source": [
    "x = (1,2,3)\n",
    "y = ([1,2],3)\n",
    "del(y[0][1])\n",
    "print(y)\n",
    "y += 4,\n",
    "print(y)"
   ]
  },
  {
   "cell_type": "markdown",
   "id": "79cc00e4",
   "metadata": {},
   "source": [
    "### Sets\n",
    "#### (Unordered, Unique Items)"
   ]
  },
  {
   "cell_type": "code",
   "execution_count": 30,
   "id": "05aa6e09",
   "metadata": {},
   "outputs": [
    {
     "name": "stdout",
     "output_type": "stream",
     "text": [
      "{3, 5}\n",
      "set()\n",
      "{1, 2, 3}\n"
     ]
    }
   ],
   "source": [
    "x= {3,5,5,3}\n",
    "print(x)\n",
    "\n",
    "y = set()\n",
    "print(y)\n",
    "\n",
    "z = set([1,2,3])\n",
    "print(z)"
   ]
  },
  {
   "cell_type": "code",
   "execution_count": 31,
   "id": "69a0e4f1",
   "metadata": {},
   "outputs": [
    {
     "name": "stdout",
     "output_type": "stream",
     "text": [
      "{3, 5, 6}\n",
      "{5, 6}\n",
      "2\n",
      "True\n",
      "5 {6}\n"
     ]
    }
   ],
   "source": [
    "#operations\n",
    "x= {3,5,5,3}\n",
    "#adding\n",
    "x.add(6)\n",
    "print(x)\n",
    "#removing\n",
    "x.remove(3)\n",
    "print(x)\n",
    "#finding the length\n",
    "print(len(x))\n",
    "#check membership in x\n",
    "print(5  in x)\n",
    "# pop random item from set x\n",
    "print(x.pop(), x)\n",
    "#clear set\n",
    "x.clear()"
   ]
  },
  {
   "cell_type": "markdown",
   "id": "5f1866cc",
   "metadata": {},
   "source": [
    "<h5>Mathematical set operations</h5>"
   ]
  },
  {
   "cell_type": "code",
   "execution_count": 32,
   "id": "681c9f6c",
   "metadata": {},
   "outputs": [
    {
     "name": "stdout",
     "output_type": "stream",
     "text": [
      "{3, 4, 5}\n",
      "{1, 2, 3, 4, 5}\n",
      "{1, 2}\n",
      "{1, 2}\n",
      "False\n",
      "True\n"
     ]
    }
   ],
   "source": [
    "s1 = {1,2,3,4,5}\n",
    "s2 = {3,4,5}\n",
    "print(s1 & s2) #intersection (AND)\n",
    "print(s1 | s2) # Union (OR)\n",
    "print(s1 ^ s2) #Symmetric Difference (XOR)\n",
    "print(s1 - s2) #Difference (in set1 but not in set2) \n",
    "print(s1 <= s2) #Subset (set2 contains set1)\n",
    "print(s1 >= s2) #Superset (set1 contains set2)"
   ]
  },
  {
   "cell_type": "markdown",
   "id": "bddf6224",
   "metadata": {},
   "source": [
    "#### Dictionaries"
   ]
  },
  {
   "cell_type": "code",
   "execution_count": 33,
   "id": "bb1800f5",
   "metadata": {},
   "outputs": [
    {
     "name": "stdout",
     "output_type": "stream",
     "text": [
      "{'bananas': 1, 'apple': 2, 'orange': 3}\n",
      "{'bananas': 1, 'apple': 2, 'orange': 3}\n",
      "{'bananas': 1, 'apple': 2, 'orange': 3}\n"
     ]
    }
   ],
   "source": [
    "x = {'bananas':1, 'apple':2, 'orange':3}\n",
    "print(x)\n",
    "y = dict([('bananas',1), ('apple',2), ('orange',3)])\n",
    "print(y)\n",
    "z = dict(bananas=1, apple=2, orange=3)\n",
    "print(z)"
   ]
  },
  {
   "cell_type": "code",
   "execution_count": 34,
   "id": "78d46023",
   "metadata": {},
   "outputs": [
    {
     "name": "stdout",
     "output_type": "stream",
     "text": [
      "{'bananas': 1, 'apple': 2, 'orange': 3, 'grape': 4}\n",
      "{'bananas': 1, 'apple': 2, 'orange': 3}\n",
      "{}\n"
     ]
    }
   ],
   "source": [
    "#dictionary operations\n",
    "x['grape'] = 4 #add a key-value pair in a dictionary\n",
    "print(x)\n",
    "\n",
    "del(x['grape']) #delete\n",
    "print(x)\n",
    "\n",
    "x.clear() #delete all items inside a dictionary\n",
    "print(x)\n",
    "\n",
    "del(x) #delete a dictionary"
   ]
  },
  {
   "cell_type": "code",
   "execution_count": 35,
   "id": "fc57e964",
   "metadata": {},
   "outputs": [
    {
     "name": "stdout",
     "output_type": "stream",
     "text": [
      "dict_keys(['bananas', 'apple', 'orange'])\n",
      "dict_values([1, 2, 3])\n",
      "dict_items([('bananas', 1), ('apple', 2), ('orange', 3)])\n",
      "True\n",
      "False\n"
     ]
    }
   ],
   "source": [
    "#accessing keys, values in a dictionary\n",
    "x = {'bananas':1, 'apple':2, 'orange':3}\n",
    "print(x.keys())\n",
    "print(x.values())\n",
    "print(x.items()) #key-value pairs\n",
    "\n",
    "print('bananas' in x) #check membership of a key in the dictionary\n",
    "\n",
    "print('bananas' in x.values()) #check membership in values"
   ]
  },
  {
   "cell_type": "code",
   "execution_count": 36,
   "id": "83c17eaa",
   "metadata": {},
   "outputs": [
    {
     "name": "stdout",
     "output_type": "stream",
     "text": [
      "bananas 1\n",
      "apple 2\n",
      "orange 3\n",
      "bananas 1\n",
      "apple 2\n",
      "orange 3\n"
     ]
    }
   ],
   "source": [
    "#iterating a dictionary\n",
    "for key, value in x.items():\n",
    "    print(key,value)\n",
    "    \n",
    "for key in x:\n",
    "    print(key, x[key])"
   ]
  },
  {
   "cell_type": "code",
   "execution_count": null,
   "id": "d631344e",
   "metadata": {},
   "outputs": [],
   "source": []
  }
 ],
 "metadata": {
  "kernelspec": {
   "display_name": "Python 3",
   "language": "python",
   "name": "python3"
  },
  "language_info": {
   "codemirror_mode": {
    "name": "ipython",
    "version": 3
   },
   "file_extension": ".py",
   "mimetype": "text/x-python",
   "name": "python",
   "nbconvert_exporter": "python",
   "pygments_lexer": "ipython3",
   "version": "3.8.8"
  }
 },
 "nbformat": 4,
 "nbformat_minor": 5
}
