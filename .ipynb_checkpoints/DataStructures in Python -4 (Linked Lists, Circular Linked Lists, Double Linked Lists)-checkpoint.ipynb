{
 "cells": [
  {
   "cell_type": "markdown",
   "id": "d026af2a",
   "metadata": {},
   "source": [
    "## Linked List"
   ]
  },
  {
   "cell_type": "markdown",
   "id": "c0a7720b",
   "metadata": {},
   "source": [
    "<h3>Steps : </h3>\n",
    "<ol>\n",
    "    <li> Create a Node Class</li>\n",
    "    <li> To add a value to the list use the above Node, the new node will be the root node and increment the size if the list</li>\n",
    "    <li>To find a particular value, then take the root node as this_node and check whether the data inside this_node is equal to the current node if it is equal then return this_node else this_node will be the next_node and repeat the process until you find the value else return None</li>\n",
    "    <li>To remove a given node, take root node as this_node and previous node is none, if this_node data is equal to the given data then check prev_node, if prev_node is none then this_node is equal to this_node's next_node else prev_node.next_node is qual to this_node.next_node</li>\n",
    "    <li> To print a list, set this_node is equal to root node and repeat the process until all the nodes are processed</li>\n",
    "</ol>"
   ]
  },
  {
   "cell_type": "code",
   "execution_count": 1,
   "id": "81a8ef7e",
   "metadata": {},
   "outputs": [],
   "source": [
    "#create a node\n",
    "class Node:\n",
    "    def __init__(self, d, n=None, p=None):\n",
    "        self.data = d\n",
    "        self.next_node = n\n",
    "        self.previous_node = p #it is used for doubly linked and circular linked list too\n",
    "    def __str__(self):\n",
    "        return ('(' + str(self.data) + ')')"
   ]
  },
  {
   "cell_type": "code",
   "execution_count": 2,
   "id": "5a36fde5",
   "metadata": {},
   "outputs": [],
   "source": [
    "class LinkedList:\n",
    "    def __init__(self, r=None):\n",
    "        self.root = r #inialize a root node with None as value\n",
    "        self.size = 0 #size = 0\n",
    "    def add(self, d): # add a value 'd'\n",
    "        new_node = Node(d,self.root) #creata a node using node command with next node None\n",
    "        self.root = new_node #assign this node as root node\n",
    "        self.size += 1 #increment the size\n",
    "    def find(self,d): #find a value 'd'\n",
    "        this_node = self.root #get the current node which is the root node\n",
    "        while this_node is not None: #if current node is not none\n",
    "            if this_node.data == d: #if current node data is equal to 'd'\n",
    "                return d #return d\n",
    "            else: #else\n",
    "                this_node = this_node.next_node #change the current node to the next node\n",
    "        return None # if no data is found return none\n",
    "    def remove(self, d): #remove a node contains data 'd'\n",
    "        this_node = self.root #get the current node which is the root node\n",
    "        prev_node = None #make previous node as None\n",
    "        while this_node is not None: #if current node is not none\n",
    "            if this_node.data == d: #if the data in the current node is equal to 'd'\n",
    "                if prev_node is not None: #if prev value is not none\n",
    "                    prev_node.next_node = this_node.next_node #prev node's next node will be current nodes next node\n",
    "                else: #else\n",
    "                    self.root = this_node.next_node #if previous node is none then root node = current node's next node\n",
    "                self.size -=1 #decrement the size\n",
    "                return True #return some boolean value\n",
    "            else: #if the current node data is not equal to the given data\n",
    "                prev_node = this_node #previous node will become current node\n",
    "                this_node = this_node.next_node #current node will become the next node\n",
    "        return None #if there is no data return None\n",
    "    \n",
    "    def print_list(self): #to print the list\n",
    "        this_node = self.root #get the current node which is the root node\n",
    "        while this_node is not None: #if current node is not none\n",
    "            print(this_node, end='->') #print the current node data\n",
    "            this_node = this_node.next_node #now the current node will be the current nodes next node\n",
    "        print('None') #return none           "
   ]
  },
  {
   "cell_type": "code",
   "execution_count": 3,
   "id": "4df136fe",
   "metadata": {},
   "outputs": [
    {
     "name": "stdout",
     "output_type": "stream",
     "text": [
      "5\n",
      "12\n",
      "(6)->(20)->(5)->(12)->None\n",
      "(6)\n"
     ]
    }
   ],
   "source": [
    "myList = LinkedList()\n",
    "myList.add(12)\n",
    "myList.add(5)\n",
    "myList.add(20)\n",
    "myList.add(6)\n",
    "print(myList.find(5))\n",
    "print(myList.find(12))\n",
    "myList.print_list()\n",
    "print(myList.root)"
   ]
  },
  {
   "cell_type": "markdown",
   "id": "7e109da6",
   "metadata": {},
   "source": [
    "## Circular Linked List"
   ]
  },
  {
   "cell_type": "code",
   "execution_count": 4,
   "id": "69d824b8",
   "metadata": {},
   "outputs": [],
   "source": [
    "class Node:\n",
    "    def __init__(self, d, n=None, p=None):\n",
    "        self.data = d\n",
    "        self.next_node = n\n",
    "        self.previous_node = p #it is used for doubly linked list only\n",
    "    def __str__(self):\n",
    "        return ('(' + str(self.data) + ')')"
   ]
  },
  {
   "cell_type": "code",
   "execution_count": 5,
   "id": "f6f899fc",
   "metadata": {},
   "outputs": [],
   "source": [
    "class CircularLinkedList:\n",
    "    def __init__(self,r=None):\n",
    "        self.root = r #inialize a root node with None as value\n",
    "        self.size=0 #size = 0\n",
    "    def add(self,d): # add a value 'd' \n",
    "        if self.size == 0: #if the size is zero\n",
    "            self.root = Node(d,None) #then we add the root node with some data 'd' without next state\n",
    "            self.root.next_node = self.root #connect the root node to itself as next node ex., 12 -> 12 if d = 12\n",
    "        else: #if the size of list exists\n",
    "            '''new node will be appended next to the root node and the prev node \n",
    "            which is next to the root node will be shifted right towards the new node'''\n",
    "            new_node = Node(d,self.root.next_node) \n",
    "            self.root.next_node = new_node #root's next node will be the new node\n",
    "        self.size += 1 #increment the size\n",
    "    def find(self,d): #find the value 'd'\n",
    "        this_node = self.root #get the current node which is the root node\n",
    "        while this_node is not None: #if current node is not none\n",
    "            if this_node.data == d: #if current node data is equal to 'd'\n",
    "                return d #return d\n",
    "            elif this_node.next_node == self.root: #if the current node is equal to root node \n",
    "                return False #return false\n",
    "            this_node = this_node.next_node #change the current node to the next node\n",
    "    \n",
    "    def remove(self,d): #remove a node contains data 'd'\n",
    "        this_node = self.root #get the current node which is the root node\n",
    "        prev_node = None #make previous node as None\n",
    "        while this_node is not None: #if the current node is not none\n",
    "            if this_node.data == d: #if the data in the current node is equal to 'd'\n",
    "                if prev_node is not None: #if prev node is not none\n",
    "                    prev_node.next_node = this_node.next_node #prev node's next node will be current node's next node\n",
    "                else: #else\n",
    "                    #if root node has to be deleted\n",
    "                    if this_node.next_node != self.root: #if the current node's next node not equal to the root node\n",
    "                        this_node = this_node.next_node #current node is equal to the next node\n",
    "                    this_node.next_node = self.root.next_node #current node's next node will be root node's next node\n",
    "                    self.root = self.root.next_node #root node will be root node's next node\n",
    "                self.size -= 1 #remove the size\n",
    "                return True #data removed\n",
    "            elif this_node.next_node == self.root: #if data is not found and current node is equal to the root node\n",
    "                return False #data not found\n",
    "            prev_node = this_node #prev node is equal to the current node\n",
    "            this_node = this_node.next_node     #current node is equal to the next node                    \n",
    "                    \n",
    "        \n",
    "    def print_list(self): #to print the list\n",
    "        this_node = self.root #get the current node which is the root node\n",
    "        while this_node is not None: #if the current node is not none\n",
    "            print(this_node, end='->') #print the current node\n",
    "            this_node = this_node.next_node #next node will be the current node\n",
    "            if this_node ==self.root: #if the current node is equal to the root node\n",
    "                break #break\n",
    "        print(self.root) #print the root node"
   ]
  },
  {
   "cell_type": "code",
   "execution_count": 6,
   "id": "0beb0756",
   "metadata": {},
   "outputs": [
    {
     "name": "stdout",
     "output_type": "stream",
     "text": [
      "(12)->(12)\n",
      "(12)->(5)->(12)\n",
      "mylist size 3\n",
      "(12)->(13)->(5)->(12)\n",
      "5\n",
      "(12)->(13)->(12)\n"
     ]
    }
   ],
   "source": [
    "myList = CircularLinkedList()\n",
    "myList.add(12)\n",
    "myList.print_list()\n",
    "myList.add(5)\n",
    "myList.print_list()\n",
    "myList.add(13)\n",
    "print(\"mylist size\", myList.size)\n",
    "myList.print_list()\n",
    "print(myList.find(5))\n",
    "myList.remove(5)\n",
    "myList.print_list()"
   ]
  },
  {
   "cell_type": "code",
   "execution_count": 7,
   "id": "5a85dfc7",
   "metadata": {},
   "outputs": [
    {
     "name": "stdout",
     "output_type": "stream",
     "text": [
      "(12)->(12)\n"
     ]
    }
   ],
   "source": [
    "myList.remove(13)\n",
    "myList.print_list()"
   ]
  },
  {
   "cell_type": "code",
   "execution_count": 8,
   "id": "53d41b2b",
   "metadata": {},
   "outputs": [
    {
     "name": "stdout",
     "output_type": "stream",
     "text": [
      "(12)->(12)\n"
     ]
    }
   ],
   "source": [
    "myList.remove(6)\n",
    "myList.print_list()"
   ]
  },
  {
   "cell_type": "code",
   "execution_count": 9,
   "id": "c1413f7f",
   "metadata": {},
   "outputs": [
    {
     "name": "stdout",
     "output_type": "stream",
     "text": [
      "1\n"
     ]
    }
   ],
   "source": [
    "print(myList.size)"
   ]
  },
  {
   "cell_type": "markdown",
   "id": "7afff28c",
   "metadata": {},
   "source": [
    "## Doubly Linked List \n",
    "\n",
    "Node has three pieces, 1.previous pointer, 2. Data and 3. Next Pointer"
   ]
  },
  {
   "cell_type": "code",
   "execution_count": 10,
   "id": "43dd032c",
   "metadata": {},
   "outputs": [],
   "source": [
    "class Node:\n",
    "    def __init__(self, d, n=None, p=None):\n",
    "        self.data = d\n",
    "        self.next_node = n\n",
    "        self.prev_node = p #This will be used here\n",
    "    def __str__(self):\n",
    "        return ('(' + str(self.data) + ')')"
   ]
  },
  {
   "cell_type": "code",
   "execution_count": 11,
   "id": "50a34c2a",
   "metadata": {},
   "outputs": [],
   "source": [
    "class DoublyLinkedList:\n",
    "    def __init__(self, r = None):\n",
    "        self.root = r\n",
    "        self.last = r\n",
    "        self.size = 0\n",
    "    def add(self,d):\n",
    "        if self.size == 0:\n",
    "            self.root = Node(d)\n",
    "            self.last = self.root\n",
    "        else:\n",
    "            new_node = Node(d,self.root)\n",
    "            self.root.prev_node = new_node\n",
    "            self.root = new_node\n",
    "        self.size += 1\n",
    "        \n",
    "    def find(self,d): \n",
    "        this_node = self.root \n",
    "        while this_node is not None: \n",
    "            if this_node.data == d: \n",
    "                return d \n",
    "            elif this_node.next_node == self.root: \n",
    "                return False \n",
    "            this_node = this_node.next_node     \n",
    "            \n",
    "    def remove(self,d):\n",
    "        this_node = self.root\n",
    "        while this_node is not None:\n",
    "            if this_node.data == d:\n",
    "                if this_node.prev_node is not None:\n",
    "                    if this_node.next_node is not None:\n",
    "                        this_node.prev_node.next_node = this_node.next_node\n",
    "                        this_node.next_node.prev_node = this_node.prev_node\n",
    "                    else: #current node's next node is none\n",
    "                        this_node.prev_node.next_node = None\n",
    "                        self.last = this_node.prev_node\n",
    "                else: #prev node is none so the value is in root node\n",
    "                    self.root = this_node.next_node\n",
    "                    this_node.next_node.prev_node = self.root\n",
    "                self.size -= 1\n",
    "                return True\n",
    "            else:\n",
    "                this_node = this_node.next_node\n",
    "        return False\n",
    "    \n",
    "    def print_list(self): \n",
    "        if self.root is None:\n",
    "            return\n",
    "        this_node = self.root\n",
    "        print(this_node, end = '->')\n",
    "        while this_node.next_node is not None:\n",
    "            this_node = this_node.next_node\n",
    "            print(this_node, end = '->')\n",
    "        print()"
   ]
  },
  {
   "cell_type": "code",
   "execution_count": 12,
   "id": "21e6ee4c",
   "metadata": {},
   "outputs": [
    {
     "name": "stdout",
     "output_type": "stream",
     "text": [
      "(12)->\n",
      "(5)->(12)->\n",
      "(13)->(5)->(12)->\n",
      "12\n",
      "(5)->(12)->\n",
      "(5)->(12)->\n"
     ]
    }
   ],
   "source": [
    "myList = DoublyLinkedList()\n",
    "myList.add(12)\n",
    "myList.print_list()\n",
    "myList.add(5)\n",
    "myList.print_list()\n",
    "myList.add(13)\n",
    "myList.print_list()\n",
    "print(myList.find(12))\n",
    "myList.remove(13)\n",
    "myList.print_list()\n",
    "myList.remove(16)\n",
    "myList.print_list()"
   ]
  },
  {
   "cell_type": "code",
   "execution_count": 13,
   "id": "b16b87c8",
   "metadata": {},
   "outputs": [
    {
     "name": "stdout",
     "output_type": "stream",
     "text": [
      "(5)\n"
     ]
    }
   ],
   "source": [
    "print(myList.last.prev_node)"
   ]
  },
  {
   "cell_type": "code",
   "execution_count": null,
   "id": "5a16bba7",
   "metadata": {},
   "outputs": [],
   "source": []
  }
 ],
 "metadata": {
  "kernelspec": {
   "display_name": "Python 3",
   "language": "python",
   "name": "python3"
  },
  "language_info": {
   "codemirror_mode": {
    "name": "ipython",
    "version": 3
   },
   "file_extension": ".py",
   "mimetype": "text/x-python",
   "name": "python",
   "nbconvert_exporter": "python",
   "pygments_lexer": "ipython3",
   "version": "3.8.8"
  }
 },
 "nbformat": 4,
 "nbformat_minor": 5
}
