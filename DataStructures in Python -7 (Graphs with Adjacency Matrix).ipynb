{
 "cells": [
  {
   "cell_type": "markdown",
   "id": "6e412f3d",
   "metadata": {},
   "source": [
    "# Graph Implementation using Adjacency Matrix\n",
    "\n",
    "<p>for undirected graph, using weights</p>"
   ]
  },
  {
   "cell_type": "markdown",
   "id": "d74d6c16",
   "metadata": {},
   "source": [
    "<p>Example:</p>\n",
    "\n",
    "A  0 1 1 1 1 0 0 1 1 0  \n",
    "B  1 0 1 1 1 1 1 1 0 1  \n",
    "C  1 1 0 1 1 0 1 0 0 0  \n",
    "D  1 1 1 0 0 1 0 1 0 0  \n",
    "E  1 1 1 0 0 0 0 1 0 0  \n",
    "F  0 1 0 1 0 0 1 1 0 0  \n",
    "G  0 1 1 0 0 1 0 0 0 0  \n",
    "H  1 1 0 1 1 1 0 0 0 1  \n",
    "I  1 0 0 0 0 0 0 0 0 0  \n",
    "J  0 1 0 0 0 0 0 1 0 0  "
   ]
  },
  {
   "cell_type": "markdown",
   "id": "b28cf064",
   "metadata": {},
   "source": [
    "## Vertex Class\n",
    "\n",
    " The vertex has a constructor that sets the name of the vertex<br>"
   ]
  },
  {
   "cell_type": "code",
   "execution_count": 1,
   "id": "7eae77c3",
   "metadata": {},
   "outputs": [],
   "source": [
    "class Vertex:\n",
    "    def __init__(self,n):\n",
    "        self.name = n"
   ]
  },
  {
   "cell_type": "markdown",
   "id": "957058ad",
   "metadata": {},
   "source": [
    "## Graph Class"
   ]
  },
  {
   "cell_type": "code",
   "execution_count": 2,
   "id": "29f8d717",
   "metadata": {},
   "outputs": [],
   "source": [
    "class Graph: \n",
    "    \n",
    "    def __init__(self):\n",
    "        self.vertices = {}\n",
    "        self.edges = []\n",
    "        self.edge_indices = {}\n",
    "    \n",
    "    def add_vertex(self,vertex):\n",
    "        if isinstance(vertex,Vertex) and vertex.name not in self.vertices:\n",
    "            self.vertices[vertex.name] = vertex\n",
    "            #the below for loop appends column of zeros to the edge matrix\n",
    "            for row in self.edges:\n",
    "                row.append(0) \n",
    "            #the below line appends row of zeros to the edge matrix\n",
    "            self.edges.append([0]*(len(self.edges)+1))\n",
    "            self.edge_indices[vertex.name] = len(self.edge_indices)\n",
    "            return True\n",
    "        else:\n",
    "            return False\n",
    "    def add_edge(self, u, v, weight=1):\n",
    "        if u in self.vertices and v in self.vertices:\n",
    "            self.edges[self.edge_indices[u]][self.edge_indices[v]] = weight\n",
    "            self.edges[self.edge_indices[v]][self.edge_indices[u]] = weight\n",
    "            return True\n",
    "        else:\n",
    "            return False\n",
    "    def print_graph(self):\n",
    "        for v, i in sorted(self.edge_indices.items()):\n",
    "            print(v + ' ', end = ' ')\n",
    "            for j in range(len(self.edges)):\n",
    "                print(self.edges[i][j], end=' ')\n",
    "            print(' ')"
   ]
  },
  {
   "cell_type": "markdown",
   "id": "a64e3a05",
   "metadata": {},
   "source": [
    "## Test Code"
   ]
  },
  {
   "cell_type": "code",
   "execution_count": 3,
   "id": "a2b9aa70",
   "metadata": {},
   "outputs": [],
   "source": [
    "g= Graph()\n",
    "a = Vertex('A')"
   ]
  },
  {
   "cell_type": "code",
   "execution_count": 4,
   "id": "cda736e2",
   "metadata": {},
   "outputs": [
    {
     "data": {
      "text/plain": [
       "True"
      ]
     },
     "execution_count": 4,
     "metadata": {},
     "output_type": "execute_result"
    }
   ],
   "source": [
    "g.add_vertex(a)\n",
    "g.add_vertex(Vertex('B'))"
   ]
  },
  {
   "cell_type": "code",
   "execution_count": 5,
   "id": "fa6cb5ef",
   "metadata": {},
   "outputs": [],
   "source": [
    "for i in range(ord('A'), ord('K')):\n",
    "    g.add_vertex(Vertex(chr(i)))"
   ]
  },
  {
   "cell_type": "code",
   "execution_count": 6,
   "id": "861fbd80",
   "metadata": {},
   "outputs": [],
   "source": [
    "edges = ['AB', 'AC', 'BD', 'BE', 'AD', 'CD', 'CB', 'DF', 'DH', 'EA', 'EC', 'EH', 'FG', 'FH', 'FB', 'GB', 'GC', 'HA', 'HB', 'IA', 'JB', 'JH']\n",
    "for edge in edges:\n",
    "    g.add_edge(edge[0], edge[1])"
   ]
  },
  {
   "cell_type": "code",
   "execution_count": 7,
   "id": "679d1075",
   "metadata": {},
   "outputs": [
    {
     "name": "stdout",
     "output_type": "stream",
     "text": [
      "A  0 1 1 1 1 0 0 1 1 0  \n",
      "B  1 0 1 1 1 1 1 1 0 1  \n",
      "C  1 1 0 1 1 0 1 0 0 0  \n",
      "D  1 1 1 0 0 1 0 1 0 0  \n",
      "E  1 1 1 0 0 0 0 1 0 0  \n",
      "F  0 1 0 1 0 0 1 1 0 0  \n",
      "G  0 1 1 0 0 1 0 0 0 0  \n",
      "H  1 1 0 1 1 1 0 0 0 1  \n",
      "I  1 0 0 0 0 0 0 0 0 0  \n",
      "J  0 1 0 0 0 0 0 1 0 0  \n"
     ]
    }
   ],
   "source": [
    "g.print_graph()"
   ]
  },
  {
   "cell_type": "code",
   "execution_count": null,
   "id": "0a94e497",
   "metadata": {},
   "outputs": [],
   "source": []
  }
 ],
 "metadata": {
  "kernelspec": {
   "display_name": "Python 3",
   "language": "python",
   "name": "python3"
  },
  "language_info": {
   "codemirror_mode": {
    "name": "ipython",
    "version": 3
   },
   "file_extension": ".py",
   "mimetype": "text/x-python",
   "name": "python",
   "nbconvert_exporter": "python",
   "pygments_lexer": "ipython3",
   "version": "3.8.8"
  }
 },
 "nbformat": 4,
 "nbformat_minor": 5
}
