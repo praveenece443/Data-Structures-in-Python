{
 "cells": [
  {
   "cell_type": "markdown",
   "id": "b28cf064",
   "metadata": {},
   "source": [
    "## Vertex Class\n",
    "\n",
    " The vertex has a constructor that sets the name of the vertex and creates a new empty set in order to store the neighbors <br>\n",
    "The add neighbor method adds the name of the neighboring vertex to the neighbors set. It automatically eleminates the duplicates"
   ]
  },
  {
   "cell_type": "code",
   "execution_count": 1,
   "id": "7eae77c3",
   "metadata": {},
   "outputs": [],
   "source": [
    "class Vertex:\n",
    "    def __init__(self,n):\n",
    "        self.name = n\n",
    "        self.neighbors = set()\n",
    "    def add_neighbor(self,v):\n",
    "        self.neighbors.add(v)"
   ]
  },
  {
   "cell_type": "markdown",
   "id": "957058ad",
   "metadata": {},
   "source": [
    "## Graph Class\n",
    "\n",
    "The graph class uses a dictionary to store vertices in the format of vertex_name:vertex_object. \n",
    "<br>\n",
    "Adding a new vertex to the graph, we first check if the object passed is in a vertex object, then we check if it already exists in the graph, if both checks are passed then we add the vertex to the graph vertices dictionary.\n",
    "<br>\n",
    "when adding an edge, we recieve two vertex names, we first check both vertex are valid, then we add each to the other's neighbors set."
   ]
  },
  {
   "cell_type": "code",
   "execution_count": 8,
   "id": "29f8d717",
   "metadata": {},
   "outputs": [],
   "source": [
    "class Graph: \n",
    "    \n",
    "    def __init__(self):\n",
    "        self.vertices = {}\n",
    "    \n",
    "    def add_vertex(self,vertex):\n",
    "        if isinstance(vertex,Vertex) and vertex.name not in self.vertices:\n",
    "            self.vertices[vertex.name] = vertex\n",
    "            return True\n",
    "        else:\n",
    "            return False\n",
    "    def add_edge(self, u, v):\n",
    "        if u in self.vertices and v in self.vertices:\n",
    "            self.vertices[u].add_neighbor(v)\n",
    "            self.vertices[v].add_neighbor(u)\n",
    "            return True\n",
    "        else:\n",
    "            return False\n",
    "    def print_graph(self):\n",
    "        for key in sorted(list(self.vertices.keys())):\n",
    "            print(key, sorted(list(self.vertices[key].neighbors)))"
   ]
  },
  {
   "cell_type": "markdown",
   "id": "a64e3a05",
   "metadata": {},
   "source": [
    "## Test Code"
   ]
  },
  {
   "cell_type": "code",
   "execution_count": 9,
   "id": "a2b9aa70",
   "metadata": {},
   "outputs": [],
   "source": [
    "g= Graph()\n",
    "a = Vertex('A')"
   ]
  },
  {
   "cell_type": "code",
   "execution_count": 10,
   "id": "cda736e2",
   "metadata": {},
   "outputs": [
    {
     "data": {
      "text/plain": [
       "True"
      ]
     },
     "execution_count": 10,
     "metadata": {},
     "output_type": "execute_result"
    }
   ],
   "source": [
    "g.add_vertex(a)\n",
    "g.add_vertex(Vertex('B'))"
   ]
  },
  {
   "cell_type": "code",
   "execution_count": 11,
   "id": "fa6cb5ef",
   "metadata": {},
   "outputs": [],
   "source": [
    "for i in range(ord('A'), ord('K')):\n",
    "    g.add_vertex(Vertex(chr(i)))"
   ]
  },
  {
   "cell_type": "code",
   "execution_count": 12,
   "id": "861fbd80",
   "metadata": {},
   "outputs": [],
   "source": [
    "edges = ['AB', 'AC', 'BD', 'BE', 'AD', 'CD', 'CB', 'DF', 'DH', 'EA', 'EC', 'EH', 'FG', 'FH', 'FB', 'GB', 'GC', 'HA', 'HB', 'IA', 'JB', 'JH']\n",
    "for edge in edges:\n",
    "    g.add_edge(edge[0], edge[1])"
   ]
  },
  {
   "cell_type": "code",
   "execution_count": 13,
   "id": "679d1075",
   "metadata": {},
   "outputs": [
    {
     "name": "stdout",
     "output_type": "stream",
     "text": [
      "A ['B', 'C', 'D', 'E', 'H', 'I']\n",
      "B ['A', 'C', 'D', 'E', 'F', 'G', 'H', 'J']\n",
      "C ['A', 'B', 'D', 'E', 'G']\n",
      "D ['A', 'B', 'C', 'F', 'H']\n",
      "E ['A', 'B', 'C', 'H']\n",
      "F ['B', 'D', 'G', 'H']\n",
      "G ['B', 'C', 'F']\n",
      "H ['A', 'B', 'D', 'E', 'F', 'J']\n",
      "I ['A']\n",
      "J ['B', 'H']\n"
     ]
    }
   ],
   "source": [
    "g.print_graph()"
   ]
  },
  {
   "cell_type": "code",
   "execution_count": null,
   "id": "0a94e497",
   "metadata": {},
   "outputs": [],
   "source": []
  }
 ],
 "metadata": {
  "kernelspec": {
   "display_name": "Python 3",
   "language": "python",
   "name": "python3"
  },
  "language_info": {
   "codemirror_mode": {
    "name": "ipython",
    "version": 3
   },
   "file_extension": ".py",
   "mimetype": "text/x-python",
   "name": "python",
   "nbconvert_exporter": "python",
   "pygments_lexer": "ipython3",
   "version": "3.8.8"
  }
 },
 "nbformat": 4,
 "nbformat_minor": 5
}
